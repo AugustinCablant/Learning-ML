{
 "cells": [
  {
   "cell_type": "code",
   "execution_count": 23,
   "metadata": {},
   "outputs": [],
   "source": [
    "import torch\n",
    "import numpy as np"
   ]
  },
  {
   "cell_type": "markdown",
   "metadata": {},
   "source": [
    "# Learn PyTorch"
   ]
  },
  {
   "cell_type": "markdown",
   "metadata": {},
   "source": [
    "## Basic operations "
   ]
  },
  {
   "cell_type": "code",
   "execution_count": null,
   "metadata": {},
   "outputs": [],
   "source": [
    "# 1D\n",
    "x = torch.empty(3)\n",
    "print(x)\n",
    "\n",
    "# 2D \n",
    "x = torch.empty(3,2)\n",
    "print(x)\n",
    "\n",
    "# 3D \n",
    "x = torch.empty(3,2,4)\n",
    "print(x)\n",
    "\n",
    "# random values \n",
    "x = torch.rand(2,3)\n",
    "print(x)\n",
    "\n",
    "# ones\n",
    "x = torch.ones(2,3)\n",
    "print(x)\n",
    "\n",
    "# dtype \n",
    "print(x.dtype)\n",
    "x = torch.ones(2,2, dtype = torch.int)\n",
    "print(x)\n",
    "x = torch.ones(2,2, dtype = torch.double)\n",
    "print(x)\n",
    "\n",
    "# sizes\n",
    "print(x.size())"
   ]
  },
  {
   "cell_type": "code",
   "execution_count": null,
   "metadata": {},
   "outputs": [],
   "source": [
    "# basic operations \n",
    "\n",
    "x = torch.rand(2,2)\n",
    "y = torch.rand(2,2)\n",
    "z1 = x + y\n",
    "z2 = x * y  # torch.mul(x, y)\n",
    "z3 = x - y  # torch.sub(x, y)\n",
    "z4 = x / y  # torch.div(x, y)\n",
    "\n",
    "print(z1,z2,z3)\n",
    "\n",
    "print(y.add_(x))  # inplace operation on y \n",
    "print(y.mul_(x))  # inplace operation"
   ]
  },
  {
   "cell_type": "code",
   "execution_count": 22,
   "metadata": {},
   "outputs": [
    {
     "name": "stdout",
     "output_type": "stream",
     "text": [
      "tensor([[0.9451, 0.1379, 0.3096, 0.9520],\n",
      "        [0.3378, 0.5922, 0.4623, 0.5113],\n",
      "        [0.6719, 0.4475, 0.0433, 0.8278],\n",
      "        [0.3540, 0.6510, 0.1453, 0.5490]])\n",
      "tensor([0.9451, 0.1379, 0.3096, 0.9520, 0.3378, 0.5922, 0.4623, 0.5113, 0.6719,\n",
      "        0.4475, 0.0433, 0.8278, 0.3540, 0.6510, 0.1453, 0.5490])\n"
     ]
    }
   ],
   "source": [
    "# slicing \n",
    "\n",
    "x = torch.rand(4,4)\n",
    "print(x)\n",
    "y = x.view(16)  # 1D vector\n",
    "print(y)"
   ]
  },
  {
   "cell_type": "code",
   "execution_count": 25,
   "metadata": {},
   "outputs": [
    {
     "name": "stdout",
     "output_type": "stream",
     "text": [
      "[1. 1. 1. 1. 1.]\n",
      "tensor([1., 1., 1., 1., 1.])\n"
     ]
    }
   ],
   "source": [
    "a = torch.ones(5)\n",
    "b = a.numpy()\n",
    "print(b)\n",
    "print(torch.from_numpy(b))"
   ]
  },
  {
   "cell_type": "code",
   "execution_count": 27,
   "metadata": {},
   "outputs": [
    {
     "name": "stdout",
     "output_type": "stream",
     "text": [
      "tensor([0.0018, 0.3763, 0.0846, 0.7764, 0.4315], requires_grad=True)\n"
     ]
    }
   ],
   "source": [
    "# Tell to pytorch that it will need to calculate the gradient later \n",
    "x = torch.rand(5, requires_grad= True)\n",
    "print(x)"
   ]
  },
  {
   "cell_type": "markdown",
   "metadata": {},
   "source": [
    "## Gradient calculation "
   ]
  },
  {
   "cell_type": "code",
   "execution_count": 39,
   "metadata": {},
   "outputs": [
    {
     "name": "stdout",
     "output_type": "stream",
     "text": [
      "tensor([-2.0345,  0.9933,  0.6289], requires_grad=True)\n"
     ]
    }
   ],
   "source": [
    "x = torch.randn(3, requires_grad = True)\n",
    "print(x)"
   ]
  },
  {
   "cell_type": "code",
   "execution_count": 43,
   "metadata": {},
   "outputs": [
    {
     "name": "stdout",
     "output_type": "stream",
     "text": [
      "tensor([-0.0345,  2.9933,  2.6289], grad_fn=<AddBackward0>)\n",
      "tensor([2.3869e-03, 1.7920e+01, 1.3822e+01], grad_fn=<MulBackward0>)\n",
      "tensor(10.5815, grad_fn=<MeanBackward0>)\n"
     ]
    }
   ],
   "source": [
    "y = x + 2\n",
    "print(y)\n",
    "z = y*y*2\n",
    "print(z)\n",
    "z = z.mean()\n",
    "print(z)"
   ]
  },
  {
   "cell_type": "code",
   "execution_count": 44,
   "metadata": {},
   "outputs": [
    {
     "name": "stdout",
     "output_type": "stream",
     "text": [
      "tensor([-0.0921,  7.9823,  7.0103])\n"
     ]
    }
   ],
   "source": [
    "# dz / dx \n",
    "z.backward()\n",
    "print(x.grad)"
   ]
  },
  {
   "cell_type": "code",
   "execution_count": null,
   "metadata": {},
   "outputs": [],
   "source": []
  }
 ],
 "metadata": {
  "kernelspec": {
   "display_name": "base",
   "language": "python",
   "name": "python3"
  },
  "language_info": {
   "codemirror_mode": {
    "name": "ipython",
    "version": 3
   },
   "file_extension": ".py",
   "mimetype": "text/x-python",
   "name": "python",
   "nbconvert_exporter": "python",
   "pygments_lexer": "ipython3",
   "version": "3.9.12"
  },
  "orig_nbformat": 4
 },
 "nbformat": 4,
 "nbformat_minor": 2
}
