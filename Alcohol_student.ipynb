{
 "cells": [
  {
   "attachments": {},
   "cell_type": "markdown",
   "metadata": {},
   "source": [
    "# Student Alcohol Consumption\n",
    "\n",
    "> The data were obtained in a survey of students math courses in secondary school. It contains a lot of interesting social, gender and study information about students. You can use it for some EDA or try to predict students final grade.\n",
    "\n",
    "> Content : \n",
    ">> Attributes for  student-mat.csv (Math course) dataset: <br>\n",
    "<br>\n",
    "school - student's school (binary: 'GP' - Gabriel Pereira or 'MS' - Mousinho da Silveira)<br>\n",
    "sex - student's sex (binary: 'F' - female or 'M' - male)<br>\n",
    "age - student's age (numeric: from 15 to 22)<br>\n",
    "address - student's home address type (binary: 'U' - urban or 'R' - rural) <br>\n",
    "famsize - family size (binary: 'LE3' - less or equal to 3 or 'GT3' - greater than 3) <br>\n",
    "Pstatus - parent's cohabitation status (binary: 'T' - living together or 'A' - apart) <br>\n",
    "Medu - mother's education (numeric: 0 - none, 1 - primary education (4th grade), 2 – 5th to 9th grade, 3 – secondary education or 4 – higher education) <br>\n",
    "Fedu - father's education (numeric: 0 - none, 1 - primary education (4th grade), 2 – 5th to 9th grade, 3 – secondary education or 4 – higher education)<br>\n",
    "Mjob - mother's job (nominal: 'teacher', 'health' care related, civil 'services' (e.g. administrative or police), 'at_home' or 'other')<br>\n",
    "Fjob - father's job (nominal: 'teacher', 'health' care related, civil 'services' (e.g. administrative or police), 'at_home' or 'other')<br>\n",
    "reason - reason to choose this school (nominal: close to 'home', school 'reputation', 'course' preference or 'other')<br>\n",
    "guardian - student's guardian (nominal: 'mother', 'father' or 'other')<br>\n",
    "traveltime - home to school travel time (numeric: 1 - <15 min., 2 - 15 to 30 min., 3 - 30 min. to 1 hour, or 4 - >1 hour)<br>\n",
    "studytime - weekly study time (numeric: 1 - <2 hours, 2 - 2 to 5 hours, 3 - 5 to 10 hours, or 4 - >10 hours)<br>\n",
    "failures - number of past class failures (numeric: n if 1<=n<3, else 4) <br>\n",
    "schoolsup - extra educational support (binary: yes or no)<br>\n",
    "famsup - family educational support (binary: yes or no)<br>\n",
    "paid - extra paid classes within the course subject (Math or Portuguese) (binary: yes or no) <br>\n",
    "activities - extra-curricular activities (binary: yes or no)<br>\n",
    "nursery - attended nursery school (binary: yes or no)<br>\n",
    "higher - wants to take higher education (binary: yes or no)<br>\n",
    "internet - Internet access at home (binary: yes or no)<br>\n",
    "romantic - with a romantic relationship (binary: yes or no)<br>\n",
    "famrel - quality of family relationships (numeric: from 1 - very bad to 5 - excellent)<br>\n",
    "freetime - free time after school (numeric: from 1 - very low to 5 - very high)<br>\n",
    "goout - going out with friends (numeric: from 1 - very low to 5 - very high)<br>\n",
    "Dalc - workday alcohol consumption (numeric: from 1 - very low to 5 - very high)<br>\n",
    "Walc - weekend alcohol consumption (numeric: from 1 - very low to 5 - very high)<br>\n",
    "health - current health status (numeric: from 1 - very bad to 5 - very good)<br>\n",
    "absences - number of school absences (numeric: from 0 to 93)<br>\n",
    "<br>\n",
    "These grades are related with the course subject, Math :<br>\n",
    "<br>\n",
    "G1 - first period grade (numeric: from 0 to 20)<br>\n",
    "G2 - second period grade (numeric: from 0 to 20)<br>\n",
    "G3 - final grade (numeric: from 0 to 20, output target)<br>"
   ]
  },
  {
   "cell_type": "code",
   "execution_count": 2,
   "metadata": {},
   "outputs": [],
   "source": [
    "import pandas as pd \n",
    "import numpy as np \n",
    "import matplotlib.pyplot as plt"
   ]
  },
  {
   "cell_type": "code",
   "execution_count": 4,
   "metadata": {},
   "outputs": [
    {
     "data": {
      "text/plain": [
       "Index(['school', 'sex', 'age', 'address', 'famsize', 'Pstatus', 'Medu', 'Fedu',\n",
       "       'Mjob', 'Fjob', 'reason', 'guardian', 'traveltime', 'studytime',\n",
       "       'failures', 'schoolsup', 'famsup', 'paid', 'activities', 'nursery',\n",
       "       'higher', 'internet', 'romantic', 'famrel', 'freetime', 'goout', 'Dalc',\n",
       "       'Walc', 'health', 'absences', 'G1', 'G2', 'G3'],\n",
       "      dtype='object')"
      ]
     },
     "execution_count": 4,
     "metadata": {},
     "output_type": "execute_result"
    }
   ],
   "source": [
    "df = pd.read_csv('student-mat.csv')\n",
    "colonnes = df.columns\n",
    "colonnes"
   ]
  },
  {
   "cell_type": "code",
   "execution_count": null,
   "metadata": {},
   "outputs": [],
   "source": []
  }
 ],
 "metadata": {
  "kernelspec": {
   "display_name": "base",
   "language": "python",
   "name": "python3"
  },
  "language_info": {
   "codemirror_mode": {
    "name": "ipython",
    "version": 3
   },
   "file_extension": ".py",
   "mimetype": "text/x-python",
   "name": "python",
   "nbconvert_exporter": "python",
   "pygments_lexer": "ipython3",
   "version": "3.9.12"
  },
  "orig_nbformat": 4
 },
 "nbformat": 4,
 "nbformat_minor": 2
}
