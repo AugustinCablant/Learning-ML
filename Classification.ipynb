{
 "cells": [
  {
   "attachments": {},
   "cell_type": "markdown",
   "metadata": {},
   "source": [
    "# Classification : survivants du Titanic"
   ]
  },
  {
   "cell_type": "code",
   "execution_count": 13,
   "metadata": {},
   "outputs": [],
   "source": [
    "import pandas as pd\n",
    "import numpy as np\n",
    "import seaborn as sns\n",
    "import matplotlib.pyplot as plt\n",
    "from sklearn.neighbors import KNeighborsClassifier\n",
    "from sklearn.model_selection import train_test_split\n",
    "from sklearn.model_selection import GridSearchCV "
   ]
  },
  {
   "cell_type": "code",
   "execution_count": 3,
   "metadata": {},
   "outputs": [],
   "source": [
    "titanic = sns.load_dataset('titanic')\n",
    "titanic = titanic[['survived','pclass','sex','age']]\n",
    "titanic['sex'].replace(['male','female'], [0,1], inplace = True)\n",
    "titanic = titanic.dropna()"
   ]
  },
  {
   "cell_type": "code",
   "execution_count": 4,
   "metadata": {},
   "outputs": [
    {
     "data": {
      "text/plain": [
       "0.8417366946778712"
      ]
     },
     "execution_count": 4,
     "metadata": {},
     "output_type": "execute_result"
    }
   ],
   "source": [
    "model = KNeighborsClassifier()\n",
    "y = titanic['survived']\n",
    "X = titanic.drop('survived', axis=1)\n",
    "model.fit(X,y)\n",
    "model.score(X,y) # 83% du temps notre modèle arrive à prédire si un passager a survécu ou non"
   ]
  },
  {
   "cell_type": "code",
   "execution_count": 5,
   "metadata": {},
   "outputs": [
    {
     "name": "stdout",
     "output_type": "stream",
     "text": [
      "[0]\n",
      "[[0.8 0.2]]\n"
     ]
    },
    {
     "name": "stderr",
     "output_type": "stream",
     "text": [
      "/Users/augustincablant/opt/anaconda3/lib/python3.9/site-packages/sklearn/base.py:450: UserWarning: X does not have valid feature names, but KNeighborsClassifier was fitted with feature names\n",
      "  warnings.warn(\n",
      "/Users/augustincablant/opt/anaconda3/lib/python3.9/site-packages/sklearn/base.py:450: UserWarning: X does not have valid feature names, but KNeighborsClassifier was fitted with feature names\n",
      "  warnings.warn(\n"
     ]
    }
   ],
   "source": [
    "def survie(model, pclass=2, sex =0, age=21 ):\n",
    "    X = np.array([pclass,sex,age]).reshape(1,3)\n",
    "    print(model.predict(X))\n",
    "    print(model.predict_proba(X))\n",
    "    return None \n",
    "\n",
    "survie(model) # je n'aurais pas survécu ..."
   ]
  },
  {
   "attachments": {},
   "cell_type": "markdown",
   "metadata": {},
   "source": [
    "## On va maintenant chercher à trouver le meilleur nombre de neighbors"
   ]
  },
  {
   "attachments": {},
   "cell_type": "markdown",
   "metadata": {},
   "source": [
    "### Méthode naïve"
   ]
  },
  {
   "cell_type": "code",
   "execution_count": 18,
   "metadata": {},
   "outputs": [
    {
     "name": "stdout",
     "output_type": "stream",
     "text": [
      "La meilleure prédiction se fait pour 3 voisins, et vaut :  0.8725490196078431\n"
     ]
    }
   ],
   "source": [
    "# Méthode naïve : \n",
    "\n",
    "best_prediction = 0\n",
    "indice = 0\n",
    "\n",
    "for i in range(1,20):\n",
    "    model = KNeighborsClassifier(n_neighbors = i)\n",
    "    y = titanic['survived']\n",
    "    X = titanic.drop('survived', axis=1)\n",
    "    model.fit(X,y)\n",
    "    if best_prediction < model.score(X,y):\n",
    "        best_prediction = model.score(X,y)\n",
    "        indice = i\n",
    "    else:\n",
    "        pass\n",
    "\n",
    "print(\"La meilleure prédiction se fait pour\", indice, \"voisins, et vaut : \", best_prediction)\n",
    "    "
   ]
  },
  {
   "attachments": {},
   "cell_type": "markdown",
   "metadata": {},
   "source": [
    "### Méthode efficace"
   ]
  },
  {
   "attachments": {},
   "cell_type": "markdown",
   "metadata": {},
   "source": [
    "1) Créer un Train set et un Test set, entraîner puis évaluer \n",
    "2) Avec GridSearch, trouver les meilleurs hyperparamètres n_neighbors, metric"
   ]
  },
  {
   "cell_type": "code",
   "execution_count": 22,
   "metadata": {},
   "outputs": [
    {
     "data": {
      "text/plain": [
       "0.8601398601398601"
      ]
     },
     "execution_count": 22,
     "metadata": {},
     "output_type": "execute_result"
    }
   ],
   "source": [
    "X_train, X_test, y_train, y_test = train_test_split(X,y,test_size = 0.2)\n",
    "model = KNeighborsClassifier()\n",
    "model.fit(X_train,y_train)\n",
    "model.score(X_test,y_test)\n",
    "\n",
    "# résultat qui n'est pas ouf "
   ]
  },
  {
   "cell_type": "code",
   "execution_count": 23,
   "metadata": {},
   "outputs": [
    {
     "name": "stdout",
     "output_type": "stream",
     "text": [
      "0.7565369946605645 {'metric': 'manhattan', 'n_neighbors': 13}\n"
     ]
    }
   ],
   "source": [
    "model = KNeighborsClassifier()\n",
    "param_grid = {'n_neighbors':np.arange(1,50),\n",
    "              'metric':['euclidean','manhattan']}\n",
    "grid = GridSearchCV(KNeighborsClassifier(),param_grid,cv=5)\n",
    "grid.fit(X_train,y_train)\n",
    "model = grid.best_estimator_\n",
    "model.score(X_test,y_test)\n",
    "print(grid.best_score_, grid.best_params_)"
   ]
  },
  {
   "cell_type": "code",
   "execution_count": null,
   "metadata": {},
   "outputs": [],
   "source": []
  }
 ],
 "metadata": {
  "kernelspec": {
   "display_name": "base",
   "language": "python",
   "name": "python3"
  },
  "language_info": {
   "codemirror_mode": {
    "name": "ipython",
    "version": 3
   },
   "file_extension": ".py",
   "mimetype": "text/x-python",
   "name": "python",
   "nbconvert_exporter": "python",
   "pygments_lexer": "ipython3",
   "version": "3.9.12"
  },
  "orig_nbformat": 4
 },
 "nbformat": 4,
 "nbformat_minor": 2
}
