{
 "cells": [
  {
   "cell_type": "code",
   "execution_count": 2,
   "metadata": {},
   "outputs": [
    {
     "name": "stdout",
     "output_type": "stream",
     "text": [
      "Cloning into 'notebooks'...\n",
      "remote: Enumerating objects: 2063, done.\u001b[K\n",
      "remote: Counting objects: 100% (196/196), done.\u001b[K\n",
      "remote: Compressing objects: 100% (53/53), done.\u001b[K\n",
      "remote: Total 2063 (delta 172), reused 144 (delta 143), pack-reused 1867\u001b[K\n",
      "Receiving objects: 100% (2063/2063), 130.44 MiB | 2.29 MiB/s, done.\n",
      "Resolving deltas: 100% (1075/1075), done.\n"
     ]
    }
   ],
   "source": [
    "!git clone https://github.com/dataflowr/notebooks.git"
   ]
  },
  {
   "cell_type": "code",
   "execution_count": 2,
   "metadata": {},
   "outputs": [
    {
     "name": "stdout",
     "output_type": "stream",
     "text": [
      "warning: could not open directory 'DEEP_LEARNING/LEARNING-ML/DEEP_LEARNING/notebooks/': No such file or directory\n",
      "fatal: pathspec 'LEARNING-ML/DEEP_LEARNING/notebooks/' did not match any files\n"
     ]
    }
   ],
   "source": [
    "!git add  LEARNING-ML/DEEP_LEARNING/notebooks/"
   ]
  },
  {
   "cell_type": "code",
   "execution_count": 4,
   "metadata": {},
   "outputs": [
    {
     "name": "stdout",
     "output_type": "stream",
     "text": [
      "Username for 'https://github.com': ^C\n"
     ]
    }
   ],
   "source": [
    "!git push origin main"
   ]
  },
  {
   "cell_type": "code",
   "execution_count": 5,
   "metadata": {},
   "outputs": [
    {
     "name": "stdout",
     "output_type": "stream",
     "text": [
      "[main 9751b1d] Ajout de nouveaux fichiers\n",
      " 5 files changed, 1 insertion(+)\n",
      " rename {DEEP LEARNING => DEEP_LEARNING}/DEEP_modele.ipynb (100%)\n",
      " rename {DEEP LEARNING => DEEP_LEARNING}/Deep_Neural_Network.ipynb (100%)\n",
      " rename {DEEP LEARNING => DEEP_LEARNING}/Optimization_methods.ipynb (100%)\n",
      " rename {DEEP LEARNING => DEEP_LEARNING}/clone.ipynb (100%)\n",
      " create mode 160000 DEEP_LEARNING/notebooks\n"
     ]
    }
   ],
   "source": [
    "!git commit -m \"Ajout de nouveaux fichiers\""
   ]
  },
  {
   "cell_type": "code",
   "execution_count": 3,
   "metadata": {},
   "outputs": [
    {
     "name": "stdout",
     "output_type": "stream",
     "text": [
      "Requirement already satisfied: ipykernel in /Users/augustincablant/opt/anaconda3/lib/python3.9/site-packages (6.15.2)\n",
      "Requirement already satisfied: debugpy>=1.0 in /Users/augustincablant/opt/anaconda3/lib/python3.9/site-packages (from ipykernel) (1.5.1)\n",
      "Requirement already satisfied: matplotlib-inline>=0.1 in /Users/augustincablant/opt/anaconda3/lib/python3.9/site-packages (from ipykernel) (0.1.6)\n",
      "Requirement already satisfied: nest-asyncio in /Users/augustincablant/opt/anaconda3/lib/python3.9/site-packages (from ipykernel) (1.5.5)\n",
      "Requirement already satisfied: traitlets>=5.1.0 in /Users/augustincablant/opt/anaconda3/lib/python3.9/site-packages (from ipykernel) (5.1.1)\n",
      "Requirement already satisfied: jupyter-client>=6.1.12 in /Users/augustincablant/opt/anaconda3/lib/python3.9/site-packages (from ipykernel) (7.3.5)\n",
      "Requirement already satisfied: ipython>=7.23.1 in /Users/augustincablant/opt/anaconda3/lib/python3.9/site-packages (from ipykernel) (7.31.1)\n",
      "Requirement already satisfied: appnope in /Users/augustincablant/opt/anaconda3/lib/python3.9/site-packages (from ipykernel) (0.1.2)\n",
      "Requirement already satisfied: packaging in /Users/augustincablant/opt/anaconda3/lib/python3.9/site-packages (from ipykernel) (21.3)\n",
      "Requirement already satisfied: pyzmq>=17 in /Users/augustincablant/opt/anaconda3/lib/python3.9/site-packages (from ipykernel) (23.2.0)\n",
      "Requirement already satisfied: tornado>=6.1 in /Users/augustincablant/opt/anaconda3/lib/python3.9/site-packages (from ipykernel) (6.2)\n",
      "Requirement already satisfied: psutil in /Users/augustincablant/opt/anaconda3/lib/python3.9/site-packages (from ipykernel) (5.9.0)\n",
      "Requirement already satisfied: backcall in /Users/augustincablant/opt/anaconda3/lib/python3.9/site-packages (from ipython>=7.23.1->ipykernel) (0.2.0)\n",
      "Requirement already satisfied: setuptools>=18.5 in /Users/augustincablant/opt/anaconda3/lib/python3.9/site-packages (from ipython>=7.23.1->ipykernel) (68.0.0)\n",
      "Requirement already satisfied: pickleshare in /Users/augustincablant/opt/anaconda3/lib/python3.9/site-packages (from ipython>=7.23.1->ipykernel) (0.7.5)\n",
      "Requirement already satisfied: prompt-toolkit!=3.0.0,!=3.0.1,<3.1.0,>=2.0.0 in /Users/augustincablant/opt/anaconda3/lib/python3.9/site-packages (from ipython>=7.23.1->ipykernel) (3.0.20)\n",
      "Requirement already satisfied: pygments in /Users/augustincablant/opt/anaconda3/lib/python3.9/site-packages (from ipython>=7.23.1->ipykernel) (2.16.1)\n",
      "Requirement already satisfied: decorator in /Users/augustincablant/opt/anaconda3/lib/python3.9/site-packages (from ipython>=7.23.1->ipykernel) (5.1.1)\n",
      "Requirement already satisfied: jedi>=0.16 in /Users/augustincablant/opt/anaconda3/lib/python3.9/site-packages (from ipython>=7.23.1->ipykernel) (0.18.1)\n",
      "Requirement already satisfied: pexpect>4.3 in /Users/augustincablant/opt/anaconda3/lib/python3.9/site-packages (from ipython>=7.23.1->ipykernel) (4.8.0)\n",
      "Requirement already satisfied: entrypoints in /Users/augustincablant/opt/anaconda3/lib/python3.9/site-packages (from jupyter-client>=6.1.12->ipykernel) (0.4)\n",
      "Requirement already satisfied: jupyter-core>=4.9.2 in /Users/augustincablant/opt/anaconda3/lib/python3.9/site-packages (from jupyter-client>=6.1.12->ipykernel) (4.10.0)\n",
      "Requirement already satisfied: python-dateutil>=2.8.2 in /Users/augustincablant/opt/anaconda3/lib/python3.9/site-packages (from jupyter-client>=6.1.12->ipykernel) (2.8.2)\n",
      "Requirement already satisfied: pyparsing!=3.0.5,>=2.0.2 in /Users/augustincablant/opt/anaconda3/lib/python3.9/site-packages (from packaging->ipykernel) (3.0.9)\n",
      "Requirement already satisfied: parso<0.9.0,>=0.8.0 in /Users/augustincablant/opt/anaconda3/lib/python3.9/site-packages (from jedi>=0.16->ipython>=7.23.1->ipykernel) (0.8.3)\n",
      "Requirement already satisfied: ptyprocess>=0.5 in /Users/augustincablant/opt/anaconda3/lib/python3.9/site-packages (from pexpect>4.3->ipython>=7.23.1->ipykernel) (0.7.0)\n",
      "Requirement already satisfied: wcwidth in /Users/augustincablant/opt/anaconda3/lib/python3.9/site-packages (from prompt-toolkit!=3.0.0,!=3.0.1,<3.1.0,>=2.0.0->ipython>=7.23.1->ipykernel) (0.2.5)\n",
      "Requirement already satisfied: six>=1.5 in /Users/augustincablant/opt/anaconda3/lib/python3.9/site-packages (from python-dateutil>=2.8.2->jupyter-client>=6.1.12->ipykernel) (1.16.0)\n"
     ]
    }
   ],
   "source": [
    "!pip install ipykernel"
   ]
  },
  {
   "cell_type": "code",
   "execution_count": null,
   "metadata": {},
   "outputs": [],
   "source": []
  }
 ],
 "metadata": {
  "kernelspec": {
   "display_name": "base",
   "language": "python",
   "name": "python3"
  },
  "language_info": {
   "codemirror_mode": {
    "name": "ipython",
    "version": 3
   },
   "file_extension": ".py",
   "mimetype": "text/x-python",
   "name": "python",
   "nbconvert_exporter": "python",
   "pygments_lexer": "ipython3",
   "version": "3.9.12"
  },
  "orig_nbformat": 4
 },
 "nbformat": 4,
 "nbformat_minor": 2
}
